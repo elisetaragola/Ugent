{
 "cells": [
  {
   "cell_type": "code",
   "execution_count": null,
   "metadata": {},
   "outputs": [],
   "source": [
    "%matplotlib inline\n",
    "\n",
    "# Don't forget: Download the importstatements that are specific for this project.\n",
    "# This will import additional packages and functions that are project specific.\n",
    "from importstatements import *\n",
    "css_styling()"
   ]
  },
  {
   "cell_type": "markdown",
   "metadata": {
    "tags": []
   },
   "source": [
    "$\n",
    "\\newcommand{\\fsamp}{{F_s}}\n",
    "\\newcommand{\\tsamp}{{T_s}}\n",
    "\\newcommand{\\unit}[1]{\\text{\\,#1}}\n",
    "\\newcommand{\\tmidx}{n}\n",
    "\\newcommand{\\tds}[2][\\tmidx]{{#2(#1)}}\n",
    "\\newcommand{\\matcmd}[2][(\\cdot)]{\\texttt{#2}#1}\n",
    "\\renewcommand{\\matcmd}[2][(\\cdot)]{\\mathrm{#2}#1}\n",
    "\\newcommand{\\fcn}[1]{{\\text{#1}}}\n",
    "\\newcommand{\\bigcb}[1]{{\\big\\{#1\\big\\}}} \n",
    "\\newcommand{\\Bigcb}[1]{{\\Big\\{#1\\Big\\}}}\n",
    "\\newcommand{\\bigsb}[1]{{\\big[#1\\big]}} \n",
    "\\newcommand{\\Bigsb}[1]{{\\Big[#1\\Big]}}\n",
    "\\newcommand{\\biggsb}[1]{{\\bigg[#1\\bigg]}}\n",
    "\\newcommand{\\pyt}{\\matcmd[]{Python}}\n",
    "\\newcommand{\\fds}[2][z]{#2(#1)}\n",
    "$\n",
    "# Introduction to Digital Filters and (IIR) Filter Design\n",
    "\n",
    "This exercise will give you hands-on experience in the understanding of digital filters as well as allowing you to design useful IIR filters. The exercises on IIR filter design will cover the tools we have learnt in the lecture for designing simple IIR filters as well as give you some practise in the design of more complex filters using standard toolboxes.\n",
    "\n",
    "## Exercise: Understanding different filter representations\n",
    "\n",
    "Consider the following relation between the input signal $x(n)$ and the output signal $y(n)$.\n",
    "\n",
    "$$y(n) = 0.5*x(n)-0.5*x(n-2)-0.2\\,y(n-1)-0.2\\,y(n-2)+0.8\\,y(n-3) $$\n",
    "\n",
    "As we have seen in the lecture, this defines a filtering operation on $x(n)$. We shall now examine the filter in its different representations.\n",
    "\n",
    "### Impulse response representation\n",
    "<div class=\"alert alert-info\">\n",
    "\n",
    "**Task**\n",
    "\n",
    "Plot the impulse response of this filter. For this, proceed as follows:\n",
    "    \n",
    "* Generate the input signal to be a Kronecker's delta. Tip: let $x(n)$ be $N$ samples long. How would you represent the Kronecker's delta using this signal?\n",
    "* Compute the output signal $y(n)$ corresponding to this input. If $x(n)$ is properly defined, $y(n)$ should give you the first $N$ samples of the impulse response.\n",
    "* Plot the impulse response now, for $N=10$ and $N=100$ samples. \n",
    "* Label the axes clearly!\n",
    "\n",
    "</div>"
   ]
  },
  {
   "cell_type": "code",
   "execution_count": null,
   "metadata": {},
   "outputs": [],
   "source": [
    "# Code cell: computing and plotting the impulse response.\n",
    "# Write your code here\n"
   ]
  },
  {
   "cell_type": "markdown",
   "metadata": {},
   "source": [
    "<div class=\"alert alert-info\">\n",
    "    \n",
    "**Task** Based on the plots above, answer the following (briefly!)\n",
    "    \n",
    "* What do you observe about $h(n)$ as $n$ increases? From this, what can you conclude about the asymptotic nature of $h(n)$? \n",
    "* What can you say about the stability of the filter based on this?\n",
    "Write your answer below.\n",
    "    \n",
    "</div>"
   ]
  },
  {
   "cell_type": "markdown",
   "metadata": {},
   "source": [
    "<div class=\"alert alert-success\">\n",
    "<span style=\"color:black\">\n",
    "\n",
    "* Please enter your answer/observations/explanation here. Use `Markdown` mode for this cell. \n",
    "* Please do not remove the `Markdown` tags above and below. \n",
    "* You may use \\LaTeX formatting if you require to insert any mathematical formulae (e.g. $x_1=\\sin(2\\pi f t)$).\n",
    "\n",
    "</span>\n",
    "</div>\n",
    "    "
   ]
  },
  {
   "cell_type": "markdown",
   "metadata": {},
   "source": [
    "In the first block, we looked at the impulse response. Now we shall examine the frequency response. For this, however, it is necessary to compute the transfer function $H(z)$ in the form $H(z) = B(z)/A(z)$.\n",
    "\n",
    "<div class=\"alert alert-info\">\n",
    "    \n",
    "**Task**\n",
    "\n",
    "Rearrange the equation and compute the transfer function as $H(z) = \\dfrac{Y(z)}{X(z)} = \\dfrac{B(z)}{A(z)}$. \n",
    "\n",
    "Write your answer below.\n",
    "    \n",
    "</div>"
   ]
  },
  {
   "cell_type": "markdown",
   "metadata": {},
   "source": [
    "<div class=\"alert alert-success\">\n",
    "\n",
    "Please write your answer here:\n",
    "\n",
    "$H(z) = $\n",
    "    \n",
    "</div>    "
   ]
  },
  {
   "cell_type": "markdown",
   "metadata": {},
   "source": [
    "### Pole-zero representation of the filter\n",
    "\n",
    "Now we shall factorise $A(z)$ and $B(z)$ to obtain the *zeroes* and *poles* of the filter and, thereby, look at its representation in the $\\mathcal{Z}$-plane. To do this carry out the following steps:\n",
    "<div class=\"alert alert-info\">   \n",
    "\n",
    "**Task**\n",
    "    \n",
    "* Write $A(z)$ and $B(z)$ in the standard form given in the lecture notes, using the positive powers of $z$. \n",
    "    \n",
    "</div>    "
   ]
  },
  {
   "cell_type": "markdown",
   "metadata": {},
   "source": [
    "<div class=\"alert alert-success\">\n",
    "    \n",
    "* $\\fds{A} = $  \n",
    "* $\\fds{B}= $    \n",
    "   \n",
    "</div>    "
   ]
  },
  {
   "cell_type": "markdown",
   "metadata": {},
   "source": [
    "Now we will plot the pole-zero representation. Unfortunately, `Python` is (as yet) not smart enough to recognise polynomials as we write them, so the first step would be to convert the polynomials into a form that `Python` can understand. The simplest way is a `list`. \n",
    "<div class=\"alert alert-info\">\n",
    "As a first step, express $\\fds{A}$ and $\\fds{B}$ as lists `Az` and `Bz` respectively.\n",
    "    \n",
    "</div>\n",
    "\n",
    "**Tip:** you can use `numpy arrays` for this. For a list `Dz` corresponding to a polynomial $\\fds{D}$, the first element of the list corresponds to the coefficient of $\\fds{D}$ with the highest power of $z$ and the last element corresponds to the coefficient of $z^0$.\n",
    "\n",
    "\n",
    "Well done! Now, with this representation, we can manipulate, analyse and otherwise play with the polynomials.\n",
    "\n",
    "<div class=\"alert alert-info\">\n",
    "    \n",
    "* Factorise $\\fds{A}$ and $\\fds{B}$. Use `np.roots` for this. Print these values.\n",
    "* Use the function `PoleZeroPlot(Bz,Az)` to compute and plot the poles and zeroes on the $\\mathcal{Z}-$plane. See if the plotted poles and zeros agree with the roots you found in the previous step.\n",
    "\n",
    "</div>    "
   ]
  },
  {
   "cell_type": "code",
   "execution_count": null,
   "metadata": {},
   "outputs": [],
   "source": [
    "# Write your code for the pole-zero representation here\n",
    "Az = \n",
    "Bz = \n",
    "# Print the roots of Bz and Az using np.roots()\n",
    "\n",
    "# Make the pole-zero plot.\n",
    "PoleZeroPlot(Bz,Az)\n"
   ]
  },
  {
   "cell_type": "markdown",
   "metadata": {},
   "source": [
    "<div class=\"alert alert-info\">\n",
    "\n",
    "* List your observations and conclusions regarding the filter based on these poles and zeroes. \n",
    "* How does this match with the conclusions you made on $h(n)$ previously? Comment!\n",
    "\n",
    "</div>    "
   ]
  },
  {
   "cell_type": "markdown",
   "metadata": {},
   "source": [
    "<div class=\"alert alert-success\">\n",
    "\n",
    "Your answer/observations/conclusions here.\n",
    "\n",
    "</div>\n"
   ]
  },
  {
   "cell_type": "markdown",
   "metadata": {},
   "source": [
    "### Frequency response\n",
    "\n",
    "Based on the polynomials $A(z)$ and $B(z)$ we previously obtained, we shall now proceed with the analysis of the frequency characteristics of this filter. We shall now compute the $H(fT_s)$. To do this we shall use the built-in function `scipy.signal.freqz`.\n",
    "\n",
    "<div class=\"alert alert-info\">\n",
    "\n",
    "**Tasks**\n",
    "    \n",
    "* Read the documentation of `scipy.signal.freqz` \n",
    "* Use this to compute the frequency response of the filter for $N=1024$ equally spaced frequencies in the range $f\\in[0,\\fsamp/2]$. Tip: what *normalised* frequency range does this correspond to?\n",
    "* Plot the amplitude response $A(fT_s)$ *in dB scale* across the *normalised* frequency axis.\n",
    "* Plot the *phase* response on the chosen $fT_s$ axis.\n",
    "\n",
    "</div>"
   ]
  },
  {
   "cell_type": "code",
   "execution_count": null,
   "metadata": {},
   "outputs": [],
   "source": [
    "# Write your code here\n"
   ]
  },
  {
   "cell_type": "markdown",
   "metadata": {},
   "source": [
    "<div class=\"alert alert-info\">\n",
    "\n",
    "**Task** \n",
    "\n",
    "Based on the amplitude and phase response plots, answer the following questions:\n",
    "    \n",
    "1. Is the amplitude response what you expect intuitively?\n",
    "1. What is the form of the phase response (is it linear or non-linear)? Use the `unwrap` function if you observe sudden jumps in the phase response due to wraparound at $\\pm\\pi$.\n",
    "1. Is this form of phase response what you expect for this filter?    \n",
    "1. Do you see sudden jumps in the phase response? If so, where, and of what magnitude? Can you explain why?    \n",
    "\n",
    "</div>\n"
   ]
  },
  {
   "cell_type": "markdown",
   "metadata": {},
   "source": [
    "<div class=\"alert alert-success\">\n",
    "    \n",
    "Your answer/observations/conclusions here.\n",
    "</div>\n"
   ]
  },
  {
   "cell_type": "markdown",
   "metadata": {},
   "source": [
    "-----------\n",
    "\n",
    "## Understanding the effect of poles and zeroes in a filter's frequency response\n",
    "\n",
    "As seen in the lecture, a filter's characteristic is determined by the location of its poles and zeroes. In this exercise, we shall familiarise ourselves with this concept and visualise the effect of different placements of these components such as:\n",
    "\n",
    "- general effect of a pole and zero\n",
    "- moving a pole closer or away from unit circle and observing the frequency response \n",
    "- what if a pole and zero are at the same *complex* frequency, but their positions are interchanged (once $|p_m|>|z_m|$ and once $|p_m|<|z_m|$).\n",
    "\n",
    "For each case, we shall see how our intuitive understanding of the effect matches what we shall observe.\n"
   ]
  },
  {
   "cell_type": "markdown",
   "metadata": {},
   "source": [
    "<div class=\"alert alert-info\">\n",
    "    \n",
    "1. Consider a filter with a single real-valued pole and zero ($p_0 = 0.8$, $z_0=-1$).\n",
    "    * Write down $\\fds{H}$\n",
    "    * Comment: what would you expect the amplitude response to look like? What do you expect to happen in the neighbourhood of a pole? What would you expect to happen at frequencies that lie close to a zero?\n",
    "    \n",
    "</div>"
   ]
  },
  {
   "cell_type": "markdown",
   "metadata": {},
   "source": [
    "<div class=\"alert alert-success\">\n",
    "    \n",
    "Your answer/observations/conclusions here.\n",
    "        \n",
    "</div>"
   ]
  },
  {
   "cell_type": "markdown",
   "metadata": {},
   "source": [
    "<div class=\"alert alert-info\">\n",
    "     \n",
    "* Plot the amplitude response of this filter and verify your answer. \n",
    "    \n",
    "</div>"
   ]
  },
  {
   "cell_type": "code",
   "execution_count": null,
   "metadata": {
    "scrolled": true
   },
   "outputs": [],
   "source": [
    "# The frequency response of placing a single pole and zero §(p0=0.8,z0=-1) \n",
    "# Write your code here"
   ]
  },
  {
   "cell_type": "markdown",
   "metadata": {},
   "source": [
    "<div class=\"alert alert-info\">\n",
    "    \n",
    "2. Consider a 2nd order IIR filter with one pole at $p_0 = r_{p}e^{\\jmath 2\\pi/6}$ and one zero at $z_0 = r_{z}e^{\\jmath 2\\pi/6}$.\n",
    "    * If the filter has a real-valued impulse response, find the location of the second pole and zero (i.e., $p_1$ and $z_1$)\n",
    "    * Write down the corresponding $\\fds{A}$ and $\\fds{B}$\n",
    "    * Assume $r_p < r_z$ and $r_p$ and $r_z$ to be close to the unit circle. What would you expect to happen to a signal of frequency $f=\\fsamp/6$? Will this be attenuated or boosted? Why?\n",
    "\n",
    "</div>"
   ]
  },
  {
   "cell_type": "markdown",
   "metadata": {},
   "source": [
    "<div class=\"alert alert-success\">\n",
    "    \n",
    "$\\fds{B}$ = \n",
    "$\\fds{A}$ = \n",
    "    \n",
    "Behaviour at $f = F_s/6$:\n",
    "</div>\n",
    "    "
   ]
  },
  {
   "cell_type": "markdown",
   "metadata": {},
   "source": [
    "<div class=\"alert alert-info\">\n",
    "    \n",
    "* Now plot the _amplitude_ response of this filter and verify your conclusions. Assume $r_p = 0.85$ and $r_z=0.95$.\n",
    "</div>\n",
    "    "
   ]
  },
  {
   "cell_type": "code",
   "execution_count": null,
   "metadata": {},
   "outputs": [],
   "source": [
    "# Amplitude response of 2nd order IIR filter\n",
    "# Code here."
   ]
  },
  {
   "cell_type": "markdown",
   "metadata": {},
   "source": [
    "<div class=\"alert alert-info\">\n",
    "   \n",
    "    \n",
    "* Now we shall study the effect of moving the pole away from or closer to the unit circle. For this, keep $r_z$ fixed and perform the following two experiments:\n",
    "    * plot the amplitude response when $r_p = 0.65$\n",
    "    * plot the amplitude response when $r_p = 0.9$\n",
    "</div>\n",
    "    "
   ]
  },
  {
   "cell_type": "code",
   "execution_count": null,
   "metadata": {},
   "outputs": [],
   "source": [
    "# Effect of moving a pole closer or away from unit circle and observing the frequency response\n",
    "# place your code here"
   ]
  },
  {
   "cell_type": "markdown",
   "metadata": {},
   "source": [
    "<div class=\"alert alert-info\">\n",
    "    \n",
    "* What do you observe when the pole moves _away_ from the unit circle ($r_p$ decreases)?\n",
    "* What do you observe when the pole moves _towards_ from the unit circle ($r_p$ increases)?\n",
    "* Explain the reason for this behaviour (briefly). \n",
    "* Based on the above experiment, briefly explain the effect of placing a zero _on_ the unit circle\n",
    "</div>"
   ]
  },
  {
   "cell_type": "markdown",
   "metadata": {},
   "source": [
    "<div class=\"alert alert-success\">\n",
    "    \n",
    "Your answers here.    \n",
    "</div>"
   ]
  },
  {
   "cell_type": "markdown",
   "metadata": {},
   "source": [
    "<div class=\"alert alert-info\">\n",
    "\n",
    "* What would you expect if the poles and zeros interchange places? Plot the amplitude response in this case.\n",
    "</div>    "
   ]
  },
  {
   "cell_type": "markdown",
   "metadata": {},
   "source": [
    "<div class=\"alert alert-success\">\n",
    "    \n",
    "Your answer here.\n",
    "</div>"
   ]
  },
  {
   "cell_type": "code",
   "execution_count": null,
   "metadata": {},
   "outputs": [],
   "source": [
    "# What if a pole and zero are at the same complex frequency, but their positions \n",
    "# are interchanged?\n",
    "# place your code and plot of amplitude response here"
   ]
  },
  {
   "cell_type": "markdown",
   "metadata": {},
   "source": [
    "-----------\n",
    "\n",
    "## Design of simple IIR filters\n",
    "\n",
    "Now that we are familiar with the basic components of digital filters and how their characteristics can be manipulated (e.g. by moving the positions of the poles and zeros), we shall apply this knowledge to the design of a simple, yet useful IIR filters. Specifically, we shall consider here, the design of a *notch* filter. This filter can be used to zero a specific frequency. As we shall see in the practical example that follows, this approach can be applied to remove harmonic disturbances from interfering sources (e.g., power supply hum affecting the measurement of biomedical signals is a frequently seen source of disturbance in the real world).\n",
    "\n",
    "We shall start with definining some helper functions in this regard, especially to form the polynomials $A(z)$ and $B(z)$. \n",
    "\n",
    "### Concept: Multiplication of two polynomials\n",
    "\n",
    "When designing filters with complex poles and zeroes, we know that these poles and zeros are always accompanied by their complex conjugate, if the filter has a real-valued impulse response (the case for most practical filters). \n",
    "\n",
    "In other (more mathematical) words, if $z-z_0$ is the root of a polynomial $D(z) = d_0 + d_1z^{-1}+d_2z^{-2}\\ldots$ with $\\{d_0,d_1,\\ldots\\}\\in\\mathbb{R}$, and if $z_0\\in\\mathbb{C}$, then $z-z_0^{\\ast}$ is also a root of $D(z)$. We can group such complex pairs together to get a second-order polynomial with real-valued coefficients as $(z-z_0)(z-z_0^{\\ast}) = z^2-2\\text{Re}(z_0)\\,z+|z_0^2|$.\n",
    "\n",
    "Consequently, you will write a function `GetComplexPairPoly` that, given a first order polynomial with a complex root, returns a resulting polynomial that is of second order, by multiplying the input polynomial with its complex conjugate. To help you in this, a helper function `PolynomialMultiply` is given to you below."
   ]
  },
  {
   "cell_type": "code",
   "execution_count": null,
   "metadata": {},
   "outputs": [],
   "source": [
    "# Function to multiply two polynomials, expressed in the same way \n",
    "# (i.e. either in increasing powers or in decreasing powers of z)\n",
    "def PolynomialMultiply(polyA,polyB):\n",
    "    return np.convolve(polyA,polyB)"
   ]
  },
  {
   "cell_type": "markdown",
   "metadata": {},
   "source": [
    "In writing the above function we have exploited the fact that multiplying two polynomials\n",
    "$D_1(z) = d_{10} + d_{11}z^{-1} + \\ldots$ and\n",
    "$D_2(z) = d_{20} + d_{21}z^{-1} + \\ldots$\n",
    "yields a resulting polynomial $D(z) = D_1(z)D_2(z)$ whose coefficients can be easily obtained by *convolving* the sequences $\\{d_{10},d_{11},\\ldots\\}$ and $\\{d_{20},d_{21},\\ldots\\}$.\n",
    "\n",
    "<div class=\"alert alert-info\">\n",
    "\n",
    "**Task**    \n",
    "* Write the function `GetComplexPairPoly` as mentioned above. You may use the `PolynomialMultiply` function defined above. \n",
    "* Verify the function is correctly implemented.   \n",
    "</div>"
   ]
  },
  {
   "cell_type": "code",
   "execution_count": null,
   "metadata": {},
   "outputs": [],
   "source": [
    "# Function to return polynomial when given a first order polynomial \n",
    "# with a complex root. \n",
    "def GetComplexPairPoly(polyA):\n"
   ]
  },
  {
   "cell_type": "code",
   "execution_count": null,
   "metadata": {},
   "outputs": [],
   "source": [
    "# Design appropriate inputs to verify the function you have just written. \n",
    "# Code goes here."
   ]
  },
  {
   "cell_type": "markdown",
   "metadata": {},
   "source": [
    "### Design of a notch filter based on narrowband approximation\n",
    "The following are the filter specifications:\n",
    "1. Frequency $F_c$ should be *completely* suppressed $(0<F_cT_s<1/2)$\n",
    "2. The 3-dB *bandwidth* is $B\\tsamp = \\Delta$\n",
    "3. Leave other frequencies untouched on average\n",
    "\n",
    "Based on the experiments you have done so far and on the lecture notes, we can easily approach this design in a step-by-step manner. \n",
    "\n",
    "First answer the following questions before proceeding with the design.\n",
    "\n",
    "<div class=\"alert alert-info\">\n",
    "    \n",
    "1. What is the *minimum* order of this filter?\n",
    "1. Where would you put the *poles* and *zeroes* of this filter? **Tip:** see the formulation of the BPF from the lecture notes.\n",
    "1. Based on the above, write your answer as an expression for the filter $\\fds{H}$ in its standard form.   \n",
    "</div>"
   ]
  },
  {
   "cell_type": "markdown",
   "metadata": {},
   "source": [
    "<div class=\"alert alert-success\">\n",
    "Your answers here\n",
    "</div>"
   ]
  },
  {
   "cell_type": "markdown",
   "metadata": {},
   "source": [
    "We can apply the narrowband approximation to the above, simplifying computations somewhat. As a quick exercise, \n",
    "\n",
    "<div class=\"alert alert-info\">\n",
    "    \n",
    "Derive the form of the amplitude response $A(fT_s)$ for frequencies in the _direct_ neighbourhood of $F_c$ in terms of the *narrowband* approximation. Assume, hereby, that $A(fT_s)$ at any frequency close to a pole or zero is mainly dominated by the effect of that pole or zero (i.e., apply the approximation to $\\fds{B}$ and $\\fds{A}$).\n",
    "</div>\n"
   ]
  },
  {
   "cell_type": "markdown",
   "metadata": {},
   "source": [
    "<div class=\"alert alert-success\">\n",
    "Your answer here\n",
    "    \n",
    "$A(fT_s) = $    \n",
    "</div>\n"
   ]
  },
  {
   "cell_type": "markdown",
   "metadata": {},
   "source": [
    "From this equation and the constraint that the amplitude response should asymptotically approach 1 for the end frequencies, we can derive the necessary filter parameters. Luckily, this has already been done for you in the function `NotchFilter`. This function has the following form:\n",
    "\n",
    "`Bz,Az = NotchFilter(FcTs,BTs)`\n",
    "\n",
    "Where `FcTs` is the frequency you want to suppress and `BTs` represents the 3-dB bandwidth (all expressed in terms of the _normalised_ frequency)    "
   ]
  },
  {
   "cell_type": "code",
   "execution_count": null,
   "metadata": {},
   "outputs": [],
   "source": [
    "# Applying the concept of a notch filter to remove line or other harmonic noise\n",
    "# Defining the notch filter here.\n",
    "def NotchFilter(FcTs,BTs):\n",
    "    Q = FcTs/BTs\n",
    "    Bz,Az = signal.iirnotch(F0Ts,Q=Q,fs=1)\n",
    "    return Bz,Az"
   ]
  },
  {
   "cell_type": "markdown",
   "metadata": {},
   "source": [
    "<div class=\"alert alert-info\">\n",
    "\n",
    "Verify this function. Plot the amplitude response of this filter for $F_cT_s = 1/6$ and $BT_s = \\dfrac{1}{10\\pi}$. \n",
    "</div>"
   ]
  },
  {
   "cell_type": "code",
   "execution_count": null,
   "metadata": {},
   "outputs": [],
   "source": [
    "# Verify your design for the above specifications (use the frequency response)\n",
    "# Code here."
   ]
  },
  {
   "cell_type": "markdown",
   "metadata": {},
   "source": [
    "---------------------\n",
    "## Practical application of the notch filter\n",
    "\n",
    "A sample EEG signal (data from Physionet) is included. This is corrupted with some interfering, harmonic noise. We shall apply the notch filter to remove this. Indeed, this exercise shall provide you with a good idea of how signal analysis and cleanup takes place in practice.\n",
    "\n",
    "<div class=\"alert alert-info\">\n",
    "    \n",
    "Step 1: Load the data. Use code below for this. You may examine the variables loaded by looking at `EEGData`."
   ]
  },
  {
   "cell_type": "code",
   "execution_count": null,
   "metadata": {},
   "outputs": [],
   "source": [
    "EEGData = np.load('ex3_notch_filter_eeg.npz')\n",
    "x = EEGData['noisyIn']  # The noise-corrupted EEG signal\n",
    "fs = EEGData['sampFrq'] # The sampling frequency of this signal"
   ]
  },
  {
   "cell_type": "markdown",
   "metadata": {},
   "source": [
    "Step 2: Analyse the signal to see where the interference lies. This is done by looking at the short-time spectrum of the signal. Python provides several ways to do this. Two such approaches are: `signal.welch` and `signal.stft`. Code is provided for you for both these cases. \n",
    "\n",
    "<div class=\"alert alert-info\">\n",
    "    \n",
    "* Read the comments in the code cells below\n",
    "* Execute the code and look at the resulting different representations. "
   ]
  },
  {
   "cell_type": "code",
   "execution_count": null,
   "metadata": {},
   "outputs": [],
   "source": [
    "# Short-time power spectrum computation using Welch periodogram\n",
    "# This yields the smoothed power-spectrum averaged across several short, \n",
    "# overlapping windows of the signal.\n",
    "nfft = 256\n",
    "overlap = 7*nfft//8\n",
    "scaleFact = signal.windows.get_window('hann',nfft).sum()\n",
    "frqVec,psdX = signal.welch(x, fs=fs, window='hann',\\\n",
    "                           noverlap=overlap, nfft=nfft,scaling='spectrum')\n",
    "\n",
    "# Look at the resulting power spectrum of the signal\n",
    "fig = plt.figure(figsize=(6,4)); fig.clf()\n",
    "ax = fig.add_subplot(111)\n",
    "ax.plot(frqVec,10*np.log10(psdX*scaleFact))\n",
    "ax.set_xlabel('freqency [Hz]')\n",
    "ax.set_ylabel('|X(f)|^2 [dB]')\n",
    "ax.grid('on')"
   ]
  },
  {
   "cell_type": "code",
   "execution_count": null,
   "metadata": {},
   "outputs": [],
   "source": [
    "# Short-time periodogram using signal.stft\n",
    "# Same analysis parameters as Welch, but in this case, the periodogram is \n",
    "# not averaged across time, yielding a time-frequency view.\n",
    "\n",
    "#Add all correct inputs into signal.stft \n",
    "frqVec,tAxis,X = signal.stft(x,window='hann',nperseg=nfft,noverlap=overlap,\\\n",
    "                             nfft=nfft, return_onesided=True,axis=0,fs=fs)\n",
    "X *= scaleFact\n",
    "# Compute the periodogram\n",
    "PsiXX = np.abs(X)**2\n",
    "\n",
    "# Either plot the average along time-axis (which means 1-D plot, similar to Welch estimate)\n",
    "# or plot a colourful image, which gives a nicer view of the underlying signal spectrum.\n",
    "fig = plt.figure(figsize=(6,4)); fig.clf()\n",
    "ax = fig.add_subplot(111,aspect='auto')\n",
    "xGrid,yGrid = np.meshgrid(tAxis,frqVec)\n",
    "mesh = ax.pcolormesh(xGrid,yGrid,10*np.log10(PsiXX),cmap='jet',\\\n",
    "                     vmin=-120,vmax=-50,shading='auto')\n",
    "ax.set_xlabel('time [s]')\n",
    "ax.set_ylabel('frequency [Hz]')\n",
    "fig.colorbar(mesh,ax=ax)\n",
    "fig.show()"
   ]
  },
  {
   "cell_type": "markdown",
   "metadata": {},
   "source": [
    "Now that we have a way to analyse the signal, let us continue the process:\n",
    "\n",
    "<div class=\"alert alert-info\">\n",
    "    \n",
    "Step 3: From either of the representations, identify the frequencies where the interference originates. \n",
    "    \n",
    "You will see that this is harmonic interference, present through the entire signal. What could be the cause of this interference? \n",
    "</div>\n",
    "\n"
   ]
  },
  {
   "cell_type": "markdown",
   "metadata": {},
   "source": [
    "<div class=\"alert alert-success\">\n",
    "    \n",
    "Your answers here.\n",
    "</div>\n"
   ]
  },
  {
   "cell_type": "markdown",
   "metadata": {},
   "source": [
    "<div class=\"alert alert-info\">\n",
    "\n",
    "Step 4: Design the notch filter required. The bandwidth is a parameter to be played with.\n",
    "    \n",
    "First, create a separate notch filter for each of the interfering harmonics and combine them into one expression of $\\fds{B}$ and $\\fds{A}$. You can make use of the `PolynomialMultiply` function defined previously.  \n",
    "</div>\n"
   ]
  },
  {
   "cell_type": "code",
   "execution_count": null,
   "metadata": {},
   "outputs": [],
   "source": [
    "# Your code goes here: \n",
    "# Create a separate notch filter for each harmonic first, then combine them.    "
   ]
  },
  {
   "cell_type": "markdown",
   "metadata": {},
   "source": [
    "<div class=\"alert alert-info\">\n",
    "    \n",
    "Step 5: Filter the signal using this combined notch filter. The function `signal.lfilter` can be used for this. It does the convolution for you :) \n",
    "    \n",
    "Play with different values of BW and see which one would be best.\n",
    "</div>"
   ]
  },
  {
   "cell_type": "code",
   "execution_count": null,
   "metadata": {},
   "outputs": [],
   "source": [
    "y = np.real(signal.lfilter(Bz,Az,x))"
   ]
  },
  {
   "cell_type": "markdown",
   "metadata": {},
   "source": [
    "<div class=\"alert alert-info\">\n",
    "   \n",
    "Step 6: Verify that the filter has correctly removed the inteference. Visually you can get a clue by:\n",
    "    \n",
    "* computing the power spectrum of the signal using Welch or the STFT method and comparing to the power spectrum of the input \n",
    "* plotting the amplitude spectrum of the combined notch filter.\n",
    "    \n",
    "How would you say that you have de-noised the signal correctly?  \n",
    "</div>"
   ]
  },
  {
   "cell_type": "code",
   "execution_count": null,
   "metadata": {},
   "outputs": [],
   "source": [
    "# Replot the spectrum of the filtered signal using Welch or STFT. \n",
    "# Compare to the input signal."
   ]
  },
  {
   "cell_type": "markdown",
   "metadata": {},
   "source": [
    "<div class=\"alert alert-success\">\n",
    "    \n",
    "Your answers here.    \n",
    "</div>"
   ]
  },
  {
   "cell_type": "markdown",
   "metadata": {},
   "source": [
    "---------------------\n",
    "## Use of `pyFDA` to design more complex filters\n",
    "\n",
    "You can install pyFDA (locally) from https://pypi.org/project/pyfda/ and play with a GUI that allows you to build diferent filters. \n",
    "\n",
    "* how to specify the filter parameters\n",
    "* see the filter-order vs frequency selectivity trade-off\n",
    "* view amplitude and phase responses as well as pole-zero plots for these filters (Butterworth, Chebychev, Elliptic). Just play with this and see what is possible.\n",
    "* Learn to export coefficients and plot, e.g. the amplitude response themselves."
   ]
  }
 ],
 "metadata": {
  "kernelspec": {
   "display_name": "Python 3 (ipykernel)",
   "language": "python",
   "name": "python3"
  },
  "language_info": {
   "codemirror_mode": {
    "name": "ipython",
    "version": 3
   },
   "file_extension": ".py",
   "mimetype": "text/x-python",
   "name": "python",
   "nbconvert_exporter": "python",
   "pygments_lexer": "ipython3",
   "version": "3.9.13"
  }
 },
 "nbformat": 4,
 "nbformat_minor": 4
}
