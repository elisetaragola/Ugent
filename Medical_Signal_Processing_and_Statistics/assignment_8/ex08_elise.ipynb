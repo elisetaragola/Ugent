{
 "cells": [
  {
   "cell_type": "code",
   "execution_count": 1,
   "metadata": {},
   "outputs": [
    {
     "data": {
      "text/html": [
       "<style>\n",
       "@font-face {\n",
       "    font-family: \"Computer Modern\";\n",
       "    src: url('http://9dbb143991406a7c655e-aa5fcb0a5a4ec34cff238a2d56ca4144.r56.cf5.rackcdn.com/cmunss.otf');\n",
       "}\n",
       "@font-face {\n",
       "    font-family: \"Computer Modern\";\n",
       "    font-weight: bold;\n",
       "    src: url('http://9dbb143991406a7c655e-aa5fcb0a5a4ec34cff238a2d56ca4144.r56.cf5.rackcdn.com/cmunsx.otf');\n",
       "}\n",
       "@font-face {\n",
       "    font-family: \"Computer Modern\";\n",
       "    font-style: oblique;\n",
       "    src: url('http://9dbb143991406a7c655e-aa5fcb0a5a4ec34cff238a2d56ca4144.r56.cf5.rackcdn.com/cmunsi.otf');\n",
       "}\n",
       "@font-face {\n",
       "    font-family: \"Computer Modern\";\n",
       "    font-weight: bold;\n",
       "    font-style: oblique;\n",
       "    src: url('http://9dbb143991406a7c655e-aa5fcb0a5a4ec34cff238a2d56ca4144.r56.cf5.rackcdn.com/cmunso.otf');\n",
       "}\n",
       "div.cell{\n",
       "    width:1000px;\n",
       "    margin-left:4% !important;\n",
       "    margin-right:auto;\n",
       "}\n",
       "\n",
       "/* Change global font size (for code) */\n",
       ".CodeMirror {\n",
       "font-size: 11pt !important;\n",
       "/*font-family: monospace;*/\n",
       "}\n",
       "h1 {\n",
       "    font-family: Helvetica, serif;\n",
       "}\n",
       "h4{\n",
       "    margin-top:12px;\n",
       "    margin-bottom: 3px;\n",
       "}\n",
       "\n",
       "div.text_cell_render{\n",
       "    font-family: \"Computer Modern\", \"Helvetica Neue\", Arial, Helvetica, Geneva, sans-serif;\n",
       "    line-height: 160%;\n",
       "    font-size: 115%;\n",
       "    width:850px;\n",
       "    margin-left:auto;\n",
       "    margin-right:900px;\n",
       "}\n",
       ".CodeMirror{\n",
       "    font-family: \"Source Code Pro\", source-code-pro,Consolas, monospace;\n",
       "}\n",
       "/*.prompt{\n",
       "    display: None;\n",
       "}*/\n",
       ".text_cell_render h5 {\n",
       "    font-weight: 300;\n",
       "    font-size: 22pt;\n",
       "    color: #4057A1;\n",
       "    font-style: italic;\n",
       "    margin-bottom: .5em;\n",
       "    margin-top: 0.5em;\n",
       "    display: block;\n",
       "}\n",
       "\n",
       ".warning{\n",
       "    color: rgb( 240, 20, 20 )\n",
       "}\n",
       "/* Highlight boxes */\n",
       ".jp-RenderedHTMLCommon .alert-info {\n",
       "    color: var(--jp-info-color0);\n",
       "    color: #004E57; /* better contrast */\n",
       "    background-color: var(--jp-info-color3);\n",
       "    border-color: var(--jp-info-color2);\n",
       "}\n",
       "/* Footnotes style */\n",
       ".footnote {\n",
       "    font-size: 80%;\n",
       "}\n",
       "/*\n",
       " * Markdown autonumber headers (see https://stackoverflow.com/questions/19999696/are-numbered-headings-in-markdown-rdiscount-possible)\n",
       " */\n",
       "body {\n",
       "    counter-reset: h1 h2 h3 h4;\n",
       "    /* h2 NEEDED! this makes sure the scope of h2 is kind of global */\n",
       "}\n",
       "\n",
       "h1 {\n",
       "    counter-increment: h1;\n",
       "    counter-set: h2;\n",
       "}\n",
       "\n",
       "h2 {\n",
       "    counter-increment: h2;\n",
       "    counter-set: h3; /*I've got no idea why this works and counter-reset not...*/\n",
       "}\n",
       "\n",
       "h3 {\n",
       "    counter-increment: h3;\n",
       "    counter-set: h4;\n",
       "}\n",
       "\n",
       "h2:before {\n",
       "    content: counter(h2) \" \";\n",
       "}\n",
       "\n",
       "h3:before {\n",
       "    content: counter(h2) \".\" counter(h3) \". \"\n",
       "}\n",
       "\n",
       "h4:before {\n",
       "    content: counter(h2) \".\" counter(h3) \".\" counter(h4) \". \"\n",
       "}\n",
       "</style>\n"
      ],
      "text/plain": [
       "<IPython.core.display.HTML object>"
      ]
     },
     "execution_count": 1,
     "metadata": {},
     "output_type": "execute_result"
    }
   ],
   "source": [
    "%matplotlib inline\n",
    "\n",
    "'''\n",
    "Use %matplotlib inline instead of %matplotlib widget when preparing the final report. \n",
    "Otherwise the images are, unfortunately, not embedded in the pdf. \n",
    "'''\n",
    "from importstatements import *\n",
    "css_styling()"
   ]
  },
  {
   "cell_type": "markdown",
   "metadata": {},
   "source": [
    "$\n",
    "\\newcommand{\\unit}[1]{\\ensuremath{\\text{#1}}}\n",
    "\\newcommand{\\tmidx}{m}\n",
    "\\newcommand{\\matcmd}[2][(\\cdot)]{\\texttt{#2}#1}\n",
    "\\renewcommand{\\matcmd}[2][(\\cdot)]{\\mathrm{#2}#1}\n",
    "\\newcommand{\\fcn}[1]{{\\text{#1}}}\n",
    "\\newcommand{\\bigcb}[1]{{\\big\\{#1\\big\\}}} \n",
    "\\newcommand{\\Bigcb}[1]{{\\Big\\{#1\\Big\\}}}\n",
    "\\newcommand{\\bigsb}[1]{{\\big[#1\\big]}} \n",
    "\\newcommand{\\Bigsb}[1]{{\\Big[#1\\Big]}}\n",
    "\\newcommand{\\biggsb}[1]{{\\bigg[#1\\bigg]}}\n",
    "\\newcommand{\\parvec}{\\boldsymbol{\\theta}}\n",
    "\\newcommand{\\featvec}[1][m]{\\mathbf{x}^{(#1)}}\n",
    "\\newcommand{\\featmat}{\\mathbf{X}}\n",
    "\\newcommand{\\featlbl}[1][m]{y^{(#1)}}\n",
    "\\newcommand{\\estfeatlbl}[1][m]{\\widehat{y}^{(#1)}}\n",
    "\\newcommand{\\lblvec}{\\mathbf{y}}\n",
    "\\newcommand{\\estlblvec}{\\widehat{\\mathbf{y}}}\n",
    "$\n",
    "\n",
    "# Logistic regression\n",
    "In this exercise, we will get hands-on experience with _supervised classification_ of data. We will look at the simple _binary classification_ problem, where the data must be categorised as belonging to 'Class 0' or 'Class 1'. In this exercise, you will not only learn to implement the approaches but also learn the standard good-practices that are applied in data-analysis.\n",
    "\n",
    "We will first define help functions that allow us to predict the outcome given the model parameters ($\\parvec$), calculate the log-likelihood and the accuracy of the designed classifier. \n",
    "\n",
    "Then, we will implement the logistic regression algorithm for estimating $\\parvec$ and test it on a toy (synthetic)-dataset. Once we are satisfied by the performance on the toy-data, we will test the approach on a _real-world_ dataset in which we would like to be able to predict whether a patient has diabetes or not, given clinical information relating to the patient. \n",
    "\n",
    "## Definition of helper functions\n",
    "In this section we shall define the basic functions we shall need to implement the logistic regression based classifier.\n",
    "\n",
    "### Definition of the `sigmoid` function\n",
    "<div class=\"alert alert-info\">\n",
    "    \n",
    "Define the function `Sigmoid` that returns the sigmoid of the input `x` as:\n",
    "$$\\text{sigmoid}(x) = \\dfrac{1}{1 + \\exp{(-x)}}$$    \n",
    "    \n",
    "</div>    "
   ]
  },
  {
   "cell_type": "code",
   "execution_count": 2,
   "metadata": {},
   "outputs": [],
   "source": [
    "# Definition of the sigmoid function. Enter your code here\n",
    "def Sigmoid(x):\n",
    "    return 1/(1+np.exp(-x))"
   ]
  },
  {
   "cell_type": "markdown",
   "metadata": {},
   "source": [
    "### Defining the log-likelihood function\n",
    "\n",
    "As we have seen in the lecture, the parameters $\\parvec$ are obtained by running several iterations on the training data. During this training, we could use the log-likelihood of the data in the training set to see if the training is proceeding in the correct direction (log-likelihood keeps increasing) and how close we are to convergence (to break the iterations when the algorithm/training is converged).\n",
    "\n",
    "Consider that we have a training data set consisting of $M$ _augmented_ feature vectors $\\featvec$ (i.e., feature vectors that have been extended with a 1 as the first element (see last lecture slide)). Let $N$ be the dimension of this augmented feature vector (i.e., $\\featvec\\in\\mathbb{R}^{(N\\times 1)}$). We can collect these vectors into an $(N\\times M)$ matrix $\\featmat = \\Big(\\featvec[0],\\featvec[1],\\ldots,\\featvec[M-1] \\Big)$. Similarly, we can collect the $M$ class labels $\\featlbl$ into a $(M\\times 1)$ _column_ vector as $\\lblvec = \\big(\\featlbl[0], \\featlbl[1],\\ldots ,\\featlbl[M-1]\\big)^T$\n",
    "\n",
    "At any iteration $k$, given the estimate of the classifier parameters ${\\parvec}_{(k)}$, the 'goodness' of that parameter estimate is reflected in the log-likelihood value. Recollect that the log-likelihood was defined as:\n",
    "$$\\log\\,\\mathcal{L}\\big(\\mathbf{y}\\rvert\\mathbf{X};{\\parvec}_{(k)}\\big) = \\sum_{m}\\log\\,\\mathcal{L}\\big(y^{(m)}\\rvert\\mathbf{x}^{(m)};{\\parvec}_{(k)}\\big)\\,,$$\n",
    "\n",
    "Further, recall that $\\mathcal{L}(y\\rvert\\mathbf{x};\\parvec) = h_{\\parvec}^{y}(\\mathbf{x})\\big(1-h_{\\parvec}(\\mathbf{x})\\big)^{(1-y)}$ \n",
    "\n",
    "<div class=\"alert alert-info\">\n",
    "\n",
    "Implement a function that returns the log-likelihood for a given set of feature vectors $\\featmat$, the corresponding set of class labels $\\lblvec$, and the logistic regression parameters $\\parvec$. \n",
    "    \n",
    "Use the template: `logLikelihood = LogLikelihood(X,y,theta)`\n",
    "    \n",
    "</div>    "
   ]
  },
  {
   "cell_type": "code",
   "execution_count": 3,
   "metadata": {},
   "outputs": [],
   "source": [
    "# Define the log-likelihood function here.\n",
    "\n",
    "def LogLikelihood(X,y,theta):\n",
    "    logLikelihood = np.sum(y*np.log(Sigmoid(theta.T@X))+(1-y)*np.log(1-Sigmoid(theta.T@X)))\n",
    "    return logLikelihood\n"
   ]
  },
  {
   "cell_type": "markdown",
   "metadata": {},
   "source": [
    "### Predicting the label of a test-data point\n",
    "Now, assuming we have an estimate the sigmoid paramter ${\\parvec}$, we shall write a function to compute the label prediction $\\widehat{y}$ for a given test data-point $\\mathbf{x}$. This function can be used in several ways:\n",
    "1. in determining the log-likelihood during the training phase\n",
    "1. in computing the performance of the classifier on the test data \n",
    "\n",
    "<div class=\"alert alert-info\">\n",
    "    \n",
    "To implement this function, take the following steps:\n",
    "    \n",
    "* Compute $h_{\\parvec}(\\mathbf{x})$. We know that $0\\leq h_{\\parvec}(\\mathbf{x}) \\leq 1$. \n",
    "* However, the logistic regression classifier should output a class _label_ $\\widehat{y} \\in\\{0, 1\\}$. \n",
    "* Thus, to map from the continuous value $h_{\\parvec}(\\mathbf{x})$ to a binary label, we need to quantise $h_{\\parvec}(\\mathbf{x})$. We do this by setting a threshold $\\Gamma$ on $h_{\\parvec}(\\mathbf{x})$ such that:\n",
    "$$ \\widehat{y} = \\begin{cases} 1 & h_{\\parvec}(\\mathbf{x}) \\geq \\Gamma \\\\\n",
    "                               0 & \\text{otherwise} \\end{cases}$$\n",
    "* This will classify the data point into `Class 1` or `Class 0`. We typically choose $\\Gamma = 0.5$.   \n",
    "\n",
    "Use the template: `yHat = PredictLabel(x,theta)` for this function. \n",
    "    \n",
    "Note: if you are feeling efficient, you can modify this function so that it returns the label for a whole _set_ of input data points in the form of the data matrix $\\mathbf{X}$.\n",
    "\n",
    "**Tip:** Since we will be using the bias term in our definiton of the logistic function, take this into account when you input the feature vectors and the parameter vectors (i.e., if your input is the original ( _unaugmented_ ) feature, then remember to attach the row of `1` to the matrix (see last slide of lecture). \n",
    "    \n",
    "</div>    "
   ]
  },
  {
   "cell_type": "code",
   "execution_count": 4,
   "metadata": {},
   "outputs": [],
   "source": [
    "# Function to predict the label of data, given the features.\n",
    "def PredictLabel(X,theta):\n",
    "    # Add your code here: first compute h_theta \n",
    "    h_theta = Sigmoid(theta.T@X)\n",
    "    # Next, quantise the value to the two class labels here. \n",
    "    # gamma = 0.5 is the threshold for the quantisation.\n",
    "    yHat = (h_theta>=0.5)*1\n",
    "    return yHat"
   ]
  },
  {
   "cell_type": "markdown",
   "metadata": {},
   "source": [
    "### Computing the accuracy of the classifier\n",
    "\n",
    "The metrics that define the accuracy of a classifier are computed on the basis of a so-called _confusion matrix_. This is obtained by comparing the _predicted_ labels $\\estfeatlbl$ to the _true_ label $\\featlbl$. Of course, we can only compute the confusion matrix when the _true_ labels are available... which does not occur very often in practice. What is typically done is to compute this on the training data, to judge the accuracy of the trained classifier. This method is often adapted when comparing two different classifiers. \n",
    "\n",
    "Assume we have $M$ data-points[<sup>1</sup>](#fn1) for which the true labels $\\featlbl$ are available and the predicted labels $\\estfeatlbl$ have been computed. For the binary classifier we have seen in the lecture, the confusion matrix $\\boldsymbol{\\mathcal{C}}$ is typically written as a $(2\\times 2)$ matrix where the elements $\\mathcal{C}(i,j)$ indicate the _number_ of times $\\estfeatlbl = i$ and $\\featlbl=j$ where $i,j \\in \\bigcb{0,1}$\n",
    "\n",
    "<span id=\"fn1\"> <sup>1</sup> The terms data-points and feature vectors are used interchangeably </span>\n",
    "\n",
    "<div class = \"alert alert-info\">\n",
    "    \n",
    "Write such a function `GetConfusionMatrix` to compute the confusion matrix for a given trained classifier. \n",
    "    \n",
    "Use the template `confMatrix = GetConfusionMatrix(y,yHat)`, where `y` is the set of correct class labels and `yHat` is the set of predicted data labels. \n",
    "    \n",
    "</div>\n",
    "</span>"
   ]
  },
  {
   "cell_type": "code",
   "execution_count": 5,
   "metadata": {},
   "outputs": [],
   "source": [
    "# Compute the confusion matrix of the classifier\n",
    "def GetConfusionMatrix(yTrue,yHat):\n",
    "    C = np.zeros((2,2))\n",
    "    C[0,0] = np.sum((yTrue == 0)*(yHat == 0)*1)\n",
    "    C[0,1] = np.sum((yTrue == 1)*(yHat == 0)*1)\n",
    "    C[1,0] = np.sum((yTrue == 0)*(yHat == 1)*1)\n",
    "    C[1,1] = np.sum((yTrue == 1)*(yHat == 1)*1)\n",
    "    return C"
   ]
  },
  {
   "cell_type": "markdown",
   "metadata": {},
   "source": [
    "### Computing the accuracy of the classifier\n",
    "Based on the confusion matrix, we shall now compute the accuracy of the classifier in terms of the true negatives (TN), true positives (TP), false negatives (FN) and false positives (FP). Typically, these are expressed as a _percentage_ of the total number of data-points within a class. Thus, for example, the TN _rate_ or TN _percentage_ indicates, of all the data points with true label $0$, what percentage of this is correctly predicted by the classifier:\n",
    "$$\\text{TN}(\\%) = 100\\, \\dfrac{\\fcn{TN}}{\\fcn{TN}+\\fcn{FP}}$$ \n",
    "\n",
    "Similarly, we may define $\\fcn{TP}(\\%)$ and so on.\n",
    "\n",
    "<div class=\"alert alert-info\">\n",
    "Write down the expression for $\\fcn{TP}(\\%)$, $\\fcn{FN}(\\%)$, $\\fcn{FP}(\\%)$ using the convention described above.\n",
    "</div>    "
   ]
  },
  {
   "cell_type": "markdown",
   "metadata": {},
   "source": [
    "<div class=\"alert alert-success\">\n",
    "<span style=\"color:black\">\n",
    "  \n",
    "$$\\fcn{TP}(\\%) =  100\\, \\dfrac{\\fcn{TP}}{\\fcn{FN}+\\fcn{TP}} $$\n",
    "    \n",
    "$$\\fcn{FN}(\\%) =  100\\, \\dfrac{\\fcn{FN}}{\\fcn{FN}+\\fcn{TP}} $$\n",
    "    \n",
    "$$\\fcn{FP}(\\%) =  100\\, \\dfrac{\\fcn{FP}}{\\fcn{TN}+\\fcn{FP}} $$\n",
    "    \n",
    "</span>\n",
    "</div>"
   ]
  },
  {
   "cell_type": "markdown",
   "metadata": {},
   "source": [
    "<div class=\"alert alert-info\">\n",
    "    \n",
    "Write a function `ComputeMetrics` that takes the confusion matrix as an input and computes the performance metrics for this classifier, as we have seen in the lecture. \n",
    "    \n",
    "The result should be expressed in percentage, as described above.\n",
    "    \n",
    "Check your result using the confusion matrix $\\boldsymbol{\\mathcal{C}} = \\begin{pmatrix}90 & 10\\\\20 & 130 \\end{pmatrix}$. \n",
    "    \n",
    "**Tip:** Expected values: $\\fcn{TP}(\\%) = 92.86$.\n",
    "    \n",
    "</div>"
   ]
  },
  {
   "cell_type": "code",
   "execution_count": 6,
   "metadata": {},
   "outputs": [],
   "source": [
    "# Compute the performance metrics for binary classification\n",
    "def ComputeMetrics(C):\n",
    "\n",
    "    # Calculate the rate/percentage of true positives, false positives, false negatives, true negatives.\n",
    "    TPrate = 100*C[1,1]/(C[1,1]+C[0,1])\n",
    "    FPrate = 100*C[1,0]/(C[0,0]+C[1,0])\n",
    "    FNrate = 100*C[0,1]/(C[0,1]+C[1,1])\n",
    "    TNrate = 100*C[0,0]/(C[0,0]+C[1,0])\n",
    "    # print the result: \n",
    "    print(\"TP(%%): %3.2f, FP(%%): %3.2f, FN(%%): %3.2f, TN(%%): %3.2f\"%(TPrate,FPrate,FNrate,TNrate))\n",
    "        \n",
    "    return "
   ]
  },
  {
   "cell_type": "code",
   "execution_count": 7,
   "metadata": {},
   "outputs": [
    {
     "name": "stdout",
     "output_type": "stream",
     "text": [
      "TP(%): 92.86, FP(%): 18.18, FN(%): 7.14, TN(%): 81.82\n"
     ]
    }
   ],
   "source": [
    "# Define the confusion matrix as described in the task\n",
    "# Compute the metrics on this confusion matrix.\n",
    "C = np.array([[90,10],[20,130]])\n",
    "ComputeMetrics(C)"
   ]
  },
  {
   "cell_type": "markdown",
   "metadata": {},
   "source": [
    "## Implementing the logistic regression classifier\n",
    "\n",
    "We are finally in a position to implement a logistic regression classifier. We shall follow the Newton method, since this converges much faster. This function is given to you below.\n",
    "\n",
    "<div class=\"alert alert-info\">\n",
    "    \n",
    "* Go through the function and fill in the missing elements ($<??>$).\n",
    "* Decide and implement an appropriate stopping criterion for the iterations (**Tip:** The log-likelihood function is useful for this)\n",
    "\n",
    "</div>\n"
   ]
  },
  {
   "cell_type": "code",
   "execution_count": 8,
   "metadata": {},
   "outputs": [],
   "source": [
    "# Logistic regression parameter finding using the Hessian for the update rule.\n",
    "\n",
    "def LogisticRegressionNewton(X,y,augmentFeatures=False,dbgFlag=True):\n",
    "    \n",
    "    nDim,nSamp = X.shape\n",
    "    \n",
    "    # If not already done, augment the data matrix using the following code\n",
    "    if augmentFeatures==True:\n",
    "        X = np.append(np.ones((1,nSamp)),X,axis=0)\n",
    "        nDim += 1\n",
    "    \n",
    "    thetaVec = np.zeros(nDim) # Vector of parameters\n",
    "    \n",
    "    # Now iterate over the data several times until you are confident the approach\n",
    "    # has converged. Usually, the loglikelihood function can show you when the parameters\n",
    "    # have converged (the log-likelihood should increase and then become almost constant)\n",
    "    iterateFlag = 1\n",
    "    iterC = 0\n",
    "    lll = np.inf\n",
    "    while (iterateFlag > 0):\n",
    "        iterC += 1\n",
    "        yHat = Sigmoid(thetaVec@X) # Compute the output of the Sigmoid. DO NOT QUANTISE this.\n",
    "        \n",
    "        grad = ((y-yHat)*X).sum(axis=1)  # Compute the gradient (over all the samples)\n",
    "        hess = (yHat*(1-yHat)*X).dot(X.T) # Compute the Hessian matrix\n",
    "        \n",
    "        # Regularise the Hessian to prevent a badly conditioned matrix from\n",
    "        # blowing-up your solution.\n",
    "        hess += 1e-3*np.identity(nDim)\n",
    "\n",
    "        thetaVec = thetaVec + (np.linalg.inv(hess)).dot(grad) # Compute the Newton's update\n",
    "\n",
    "        # Implement the stopping criterion/stopping logic\n",
    "        logLikelihood = LogLikelihood(X,y,thetaVec)\n",
    "        # Implement the appropriate criterion\n",
    "\n",
    "        if np.isnan(logLikelihood):\n",
    "            stop_criterion = True\n",
    "            logLikelihood = lll\n",
    "        else:\n",
    "            stop_criterion = (np.abs(logLikelihood-lll)<0.1) + (np.abs(logLikelihood)<0.01)\n",
    "            lll = logLikelihood\n",
    "        \n",
    "        if (stop_criterion): \n",
    "            iterateFlag = 0\n",
    "        \n",
    "        if dbgFlag==True:\n",
    "            # Print some debug information            \n",
    "            print('Iteration %d. Log-likelihood: %3.3f'%(iterC,logLikelihood))\n",
    "            \n",
    "            \n",
    "    return thetaVec\n",
    "        "
   ]
  },
  {
   "cell_type": "markdown",
   "metadata": {},
   "source": [
    "## Testing the classifier\n",
    "\n",
    "### Simple 2-dimensional data\n",
    "\n",
    "<div class=\"alert alert-info\">\n",
    "    \n",
    "* Use the following code to generate $K=150$ samples of synthetic two-dimensional data. This code generates two data-sets: a training data-set of 100 samples and a test-data set of 50 samples. \n",
    "* Train your classifier on the training data, see how the log-likelihood evolves. Stop the iterations when you feel the training has converged.\n",
    "* Next, test the trained classifiers on the test data-set and report your results in terms of the confusion matrix and the performance metrics. \n",
    "* Also, try to visualise your classifier results on a two-dimensional plane using `scatter`. See an example in the code below. Also refer to the `Matplotlib` documentation for more information.\n",
    "    \n",
    "</div>\n",
    "    "
   ]
  },
  {
   "cell_type": "code",
   "execution_count": 9,
   "metadata": {},
   "outputs": [
    {
     "data": {
      "image/png": "[encoded data removed]",
      "text/plain": [
       "<Figure size 432x288 with 1 Axes>"
      ]
     },
     "metadata": {
      "needs_background": "light"
     },
     "output_type": "display_data"
    }
   ],
   "source": [
    "# Generate 2-dimensional data for the training now\n",
    "K = 150\n",
    "trainK = 100\n",
    "testK = K-trainK\n",
    "\n",
    "y = np.ones(K)\n",
    "X = np.ones((2,K))\n",
    "stdData = 0.3\n",
    "scaleFact = 0.6\n",
    "X[:,0:K//2] = (scaleFact*np.array([-1,-1])).reshape(2,1)+stdData*np.random.randn(2,K//2)\n",
    "X[:,K//2:] = (scaleFact*np.array([1,1])).reshape(2,1)+stdData*np.random.randn(2,K//2)\n",
    "y[K//2:] = 0\n",
    "\n",
    "# Shuffle the data randomly and divide into training and test sets\n",
    "shuffleIdx = np.random.permutation(K)\n",
    "X = X[:,shuffleIdx]\n",
    "y = y[shuffleIdx]\n",
    "\n",
    "# Training set\n",
    "XTrain = X[:,0:trainK]\n",
    "yTrain = y[0:trainK]\n",
    "\n",
    "# Test set\n",
    "XTest = X[:,trainK:]\n",
    "yTest = y[trainK:]\n",
    "\n",
    "# Check if simulated data is alright\n",
    "grp1 = XTrain[:,np.where(yTrain==1)]\n",
    "grp2 = XTrain[:,np.where(yTrain==0)]\n",
    "\n",
    "# Create plot\n",
    "fig = plt.figure(); plt.clf()\n",
    "ax = fig.add_subplot(1, 1, 1)\n",
    "\n",
    "ax.scatter(grp1[0,:], grp1[1,:], alpha=0.8, c=\"red\", edgecolors='none', s=30, label=\"Set 1\")\n",
    "ax.scatter(grp2[0,:], grp2[1,:], alpha=0.8, c=\"green\", edgecolors='none', s=30, label=\"Set 2\")\n",
    "\n",
    "ax.set_title('Scatter plot of data')\n",
    "plt.legend(loc=2)\n",
    "plt.show()"
   ]
  },
  {
   "cell_type": "code",
   "execution_count": 10,
   "metadata": {},
   "outputs": [
    {
     "name": "stdout",
     "output_type": "stream",
     "text": [
      "Iteration 1. Log-likelihood: -19.221\n",
      "Iteration 2. Log-likelihood: -8.677\n",
      "Iteration 3. Log-likelihood: -4.238\n",
      "Iteration 4. Log-likelihood: -2.109\n",
      "Iteration 5. Log-likelihood: -1.023\n",
      "Iteration 6. Log-likelihood: -0.470\n",
      "Iteration 7. Log-likelihood: -0.204\n",
      "Iteration 8. Log-likelihood: -0.089\n",
      "Iteration 9. Log-likelihood: -0.042\n",
      "[ -2.56691799 -14.52390723 -19.46951185]\n",
      "TP(%): 100.00, FP(%): 0.00, FN(%): 0.00, TN(%): 100.00\n",
      "None\n",
      "[[28.  0.]\n",
      " [ 0. 22.]]\n"
     ]
    }
   ],
   "source": [
    "# Include your code here on training and testing the classifiers.\n",
    "# Don't forget to ensure that the feature vector is augmented during training and testing\n",
    "thetaVec = LogisticRegressionNewton(XTrain,yTrain,augmentFeatures=True,dbgFlag=True)\n",
    "\n",
    "print(thetaVec)\n",
    "\n",
    "# Predict the label for the test data.\n",
    "XTest_aug = np.append(np.ones((1,XTest.shape[1])),XTest,axis=0)\n",
    "yHat = PredictLabel(XTest_aug,thetaVec)\n",
    "\n",
    "# Include the confusion matrix and performance metrics in your summary of the classifier performance.\n",
    "C = GetConfusionMatrix(yTest,yHat)\n",
    "print(ComputeMetrics(C))\n",
    "print(C)\n",
    "# TIP: you should obtain TN and TP rates > 95% for this synthetic case...\n",
    "\n",
    "# Report your results\n"
   ]
  },
  {
   "cell_type": "markdown",
   "metadata": {},
   "source": [
    "<div class=\"alert alert-success\">\n",
    "<span style=\"color:black\">\n",
    "  \n",
    "$$\\boldsymbol{\\mathcal{C}} = \\begin{pmatrix}28 & 0\\\\0 & 22 \\end{pmatrix}$$\n",
    "    \n",
    "Performance metrics:\n",
    "    \n",
    "TP(%): 100.00, FP(%): 0.00, FN(%): 0.00, TN(%): 100.00\n",
    "    \n",
    "</span>\n",
    "</div>"
   ]
  },
  {
   "cell_type": "markdown",
   "metadata": {},
   "source": [
    "### Real-world data\n",
    "\n",
    "This dataset is originally from the National Institute of Diabetes and Digestive and Kidney Diseases. The objective of the dataset is to predict whether or not a patient has diabetes, based on certain diagnostic measurements included in the dataset. Several constraints were placed on the selection of these instances from a larger database. In particular, all patients here are females at least 21 years old of Pima Indian heritage. \n",
    "The dataset has been slightly modified from the original and is split, for your convenience, into the `train` and `test` sets.\n",
    "\n",
    "#### Read data from the training file and train the classifier.\n",
    "\n",
    "<div class=\"alert alert-info\"> \n",
    "\n",
    "* Use the code below to read the data. \n",
    "    \n",
    "</div>"
   ]
  },
  {
   "cell_type": "code",
   "execution_count": 11,
   "metadata": {},
   "outputs": [],
   "source": [
    "# Import data from the diabetes test file.\n",
    "# This is the training data. First fit the classifier parameters on this training data.\n",
    "XTrain = []; yTrain = []\n",
    "fr = open('./diabetesTrain.csv')\n",
    "\n",
    "for line in fr.readlines():\n",
    "    lineArr = line.strip().split(',')\n",
    "    \n",
    "    # Get the dimension of each line. This contains the features (diagnostic measurements)\n",
    "    # for each subject and a label (diabetic or not). The label is the last element of each row\n",
    "    nElements = len(lineArr)  \n",
    "\n",
    "    yTrain.append(float(lineArr[-1]))  # The outcome is the last element.\n",
    "    \n",
    "    # Now append the data to the M-dimensional feature matrix.\n",
    "    featVec = []\n",
    "    for i in lineArr[0:-1]:\n",
    "        featVec.append(float(i))\n",
    "    XTrain.append(featVec)\n",
    "\n",
    "XTrain = np.array(XTrain).T  # Dimension should be N x M (#features x #data-points)\n",
    "yTrain = np.array(yTrain)\n"
   ]
  },
  {
   "cell_type": "markdown",
   "metadata": {},
   "source": [
    "<div class=\"alert alert-info\">\n",
    "\n",
    "* Use the _Newton's_ approach to train the classifier. \n",
    "* Use an intercept (offset/bias in the exponent term) in training the classifier (i.e., augment the training data).\n",
    "\n",
    "</div>"
   ]
  },
  {
   "cell_type": "code",
   "execution_count": 12,
   "metadata": {},
   "outputs": [
    {
     "name": "stdout",
     "output_type": "stream",
     "text": [
      "Iteration 1. Log-likelihood: -299.160\n",
      "Iteration 2. Log-likelihood: -289.338\n",
      "Iteration 3. Log-likelihood: -288.924\n",
      "Iteration 4. Log-likelihood: -288.922\n"
     ]
    }
   ],
   "source": [
    "# Train the classifier on the training data.\n",
    "# Don't forget to augment the data!\n",
    "theta = LogisticRegressionNewton(XTrain,yTrain,augmentFeatures=True,dbgFlag=True)"
   ]
  },
  {
   "cell_type": "markdown",
   "metadata": {},
   "source": [
    "#### Naïve classifier\n",
    "\n",
    "The most rudimentary classifier is one that simply makes a _majority_ decision. In other words, if the majority of the population in the training set belong to a particular class, each element of the test set is set to that _majority_ class. \n",
    "\n",
    "<div class=\"alert alert-info\">\n",
    "\n",
    "Let us calculate the naïve decision error rate. Use following code snippet for this:\n",
    "\n",
    "</div>"
   ]
  },
  {
   "cell_type": "code",
   "execution_count": 13,
   "metadata": {},
   "outputs": [
    {
     "name": "stdout",
     "output_type": "stream",
     "text": [
      "Naive error: 34.85%.\n"
     ]
    }
   ],
   "source": [
    "# This depends on the prevalance of the condition in the population\n",
    "Ph1 = np.sum(yTrain)/np.size(yTrain) #Ph1: a priori probability that a person has the condition\n",
    "# Error rate = 1-np.maximum(Ph1,1-Ph1)\n",
    "naiveErr = (1-np.maximum(Ph1,1-Ph1))*100 # Expressing in percentage\n",
    "print(\"Naive error: %2.2f%%.\"%naiveErr)"
   ]
  },
  {
   "cell_type": "markdown",
   "metadata": {},
   "source": [
    "Of course, in order for our classifier to be useful, its error rate should be better than this. \n",
    "\n",
    "<div class = \"alert alert-info\" >\n",
    "\n",
    "* Compute the confusion matrix of your trained classifier on _`XTrain`_. This is the error on the training data. This will show that real life data can usually never be perfectly classified and that some error is inherent.\n",
    "* Compute the percentage of _total false decisions_ (**Tip:** this should be in the range of 20\\% - 25\\% or lower)\n",
    "    \n",
    "</div>"
   ]
  },
  {
   "cell_type": "code",
   "execution_count": 14,
   "metadata": {},
   "outputs": [
    {
     "name": "stdout",
     "output_type": "stream",
     "text": [
      "Error of logistic regression: 22.48%.\n"
     ]
    }
   ],
   "source": [
    "# Error rate of the trained classifier (% of wrong decisions) on the training data\n",
    "XTrain_aug = np.append(np.ones((1,XTrain.shape[1])),XTrain,axis=0)\n",
    "yHat = PredictLabel(XTrain_aug,theta)\n",
    "confMatrix = GetConfusionMatrix(yTrain,yHat)\n",
    "errCount = confMatrix[1,0]+confMatrix[0,1]\n",
    "errRate =  100*errCount/len(XTrain[0]) # Percentage over total number of training data points\n",
    "print(\"Error of logistic regression: %2.2f%%.\"%errRate)\n"
   ]
  },
  {
   "cell_type": "markdown",
   "metadata": {},
   "source": [
    "#### Now test on the test data\n",
    "\n",
    "<div class=\"alert alert-info\">\n",
    "\n",
    "* First read the data from the `diabetesTest.csv` file in a similar manner as done for the training data. Use the snippet below for this.\n",
    "    \n",
    "</div>"
   ]
  },
  {
   "cell_type": "code",
   "execution_count": 15,
   "metadata": {},
   "outputs": [],
   "source": [
    "# Import data from the modified diabetes test file.\n",
    "# This is the training data. First fit the classifier parameters on this training data.\n",
    "XTest = []; yTest = []\n",
    "fr = open('./diabetesTest.csv')\n",
    "for line in fr.readlines():\n",
    "    lineArr = line.strip().split(',')\n",
    "    nElements = len(lineArr)  # Get the dimension of each line.\n",
    "\n",
    "    yTest.append(float(lineArr[-1]))  # The outcome is the last element.\n",
    "    \n",
    "    # Now append the data to the M-dimensional feature matrix.\n",
    "    featVec = []\n",
    "    for i in lineArr[0:-1]:\n",
    "        featVec.append(float(i))\n",
    "    XTest.append(featVec)\n",
    "    \n",
    "\n",
    "XTest = np.array(XTest).T  # Dimension should be M x K (#features x #data-points)\n",
    "yTest = np.array(yTest)"
   ]
  },
  {
   "cell_type": "markdown",
   "metadata": {},
   "source": [
    "<div class=\"alert alert-info\">\n",
    "\n",
    "* Now apply the trained classifier to predict the label of each test datapoint\n",
    "* Compute the confusion matrix and the performance metrics. List them below. (**Tip:** if all is correct, you should obtain a TP rate of around 61\\% and a TN rate of around 86\\%)\n",
    "* Compare the error rate to the error rate of the naïve classifier obtained on the training data. \n",
    "    \n",
    "</div>"
   ]
  },
  {
   "cell_type": "code",
   "execution_count": 16,
   "metadata": {},
   "outputs": [
    {
     "name": "stdout",
     "output_type": "stream",
     "text": [
      "[[86. 21.]\n",
      " [14. 33.]]\n",
      "TP(%): 61.11, FP(%): 14.00, FN(%): 38.89, TN(%): 86.00\n",
      "Error of logistic regression: 22.73%.\n"
     ]
    }
   ],
   "source": [
    "# Predicted label using logistic regression classifier trained previously\n",
    "XTest_aug = np.append(np.ones((1,XTest.shape[1])),XTest,axis=0)\n",
    "yHat = PredictLabel(XTest_aug,theta)\n",
    "\n",
    "# Confusion matrix and performance metrics.\n",
    "confusionMatrix = GetConfusionMatrix(yTest,yHat)\n",
    "print(confusionMatrix)\n",
    "\n",
    "# Performance metrics\n",
    "ComputeMetrics(confusionMatrix)\n",
    "\n",
    "# Error rate of logistic regression classifier\n",
    "errCount = confusionMatrix[1,0]+confusionMatrix[0,1]\n",
    "errRate = 100*errCount/len(yTest) # Percentage over total number of training data points\n",
    "print(\"Error of logistic regression: %2.2f%%.\"%errRate)\n",
    "\n"
   ]
  },
  {
   "cell_type": "markdown",
   "metadata": {},
   "source": [
    "<div class=\"alert alert-success\">\n",
    "<span style=\"color:black\">\n",
    "  \n",
    "What are your observations/conclusions based on the results?\n",
    "    \n",
    "</span>\n",
    "</div>"
   ]
  },
  {
   "cell_type": "code",
   "execution_count": null,
   "metadata": {},
   "outputs": [],
   "source": []
  }
 ],
 "metadata": {
  "kernelspec": {
   "display_name": "Python 3",
   "language": "python",
   "name": "python3"
  },
  "language_info": {
   "codemirror_mode": {
    "name": "ipython",
    "version": 3
   },
   "file_extension": ".py",
   "mimetype": "text/x-python",
   "name": "python",
   "nbconvert_exporter": "python",
   "pygments_lexer": "ipython3",
   "version": "3.8.3"
  }
 },
 "nbformat": 4,
 "nbformat_minor": 4
}
